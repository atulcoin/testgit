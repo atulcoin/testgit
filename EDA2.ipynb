{
 "cells": [
  {
   "cell_type": "code",
   "execution_count": 3,
   "metadata": {
    "collapsed": true
   },
   "outputs": [
    {
     "ename": "SyntaxError",
     "evalue": "invalid syntax (<ipython-input-3-ef834437391b>, line 2)",
     "output_type": "error",
     "traceback": [
      "\u001b[0;36m  File \u001b[0;32m\"<ipython-input-3-ef834437391b>\"\u001b[0;36m, line \u001b[0;32m2\u001b[0m\n\u001b[0;31m    first check shape of the data imported\u001b[0m\n\u001b[0m              ^\u001b[0m\n\u001b[0;31mSyntaxError\u001b[0m\u001b[0;31m:\u001b[0m invalid syntax\n"
     ]
    }
   ],
   "source": [
    "###\n",
    "first check shape of the data imported\n",
    "print(heroes.shape)\n",
    "print(powers.shape)\n",
    "\n",
    "\n",
    "#cheack properties of the data by these\n",
    "heroes.head()\n",
    "heroes.describe(include='all')\n",
    "heroes.info()\n",
    "\n",
    "\n",
    "# in case you have to cheak what is data with respect to colum in specified row then try this here \"name\" is collume name and \"super man \" is row in that column and we are searching same row in 'allingment' column\n",
    "heroes.loc[heroes['name']=='Superman', 'Alignment']\n",
    "\n",
    "#here we are checking unique entries in alignment columns and there number of count\n",
    "heroes.Alignment.unique()\n",
    "heroes.Alignment.value_counts()\n",
    "\n",
    "#here we are counting missing values in data \n",
    "heroes.isnull().sum()\n",
    "heroes.name.isna().sum() # and in specified column\n",
    "\n",
    "\n",
    "# here we have droped a column unnamed 0 from data \n",
    "heroes.drop(['Unnamed: 0'], axis=1, inplace=True)\n",
    "\n",
    "newtitanic = titanic.drop(['PassengerId','Name','SibSp','Parch','Ticket','Fare','Cabin','Embarked'],axis=1)\n",
    "\n",
    "DataFrame.dropna(self, axis=0, how='any', thresh=None, subset=None, inplace=False)\n",
    "\n",
    "# here we have find sum of publisher columns\n",
    "heroes.Publisher.isna().sum()\n",
    "\n",
    "\n",
    "# here we hafe replace all enteries which have value of '-' to 'unknown'\n",
    "heroes.replace(to_replace='-', value='unknown', inplace=True)\n",
    "\n",
    "# cheacking column \n",
    "heroes['Weight'].value_counts()\n",
    "\n",
    "# replacing negative values in weights as there are already some nan values in weight culumns\n",
    "heroes.replace(-99.0, np.nan, inplace=True)\n",
    "\n",
    "# here we are creating new data frame by onlly height and weights\n",
    "ht_wt = heroes[['Height', 'Weight']]\n",
    "\n",
    "# impute these missing values mean or median here we have used median of rows to fill\n",
    "from sklearn.impute import SimpleImputer\n",
    "\n",
    "imputer = SimpleImputer(strategy=\"median\")\n",
    "\n",
    "X = imputer.fit_transform(ht_wt)\n",
    "heroes_h_w = pd.DataFrame(X, columns=ht_wt.columns)\n",
    "\n",
    "heroes.columns # shows all the collumn names in given dataframe\n",
    "\n",
    "\n",
    "# here we have droped columns of height and weight in heroes\n",
    "heroes_without_h_w = heroes.drop(['Height','Weight'], axis=1)\n",
    "# here we have merged the new columns in given data frame\n",
    "heroes = pd.concat([heroes_without_h_w, heroes_h_w], axis=1)\n",
    "heroes.head()\n",
    "\n",
    "# here i have filled all na with mean which is 29 manually\n",
    "clean_titanic = newtitanic.fillna(29)\n",
    "\n",
    "\n",
    "heroes['Publisher'].values.count()# here we have count puvlisher\n",
    "publisher_series = heroes['Publisher'].value_counts()\n",
    "\n",
    "\n",
    "#\n",
    "publishers = list(publisher_series.index)\n",
    "publications = list((publisher_series/publisher_series.sum())*100)\n",
    "\n",
    "\n",
    "# pie chart\n",
    "plt.pie(publications,labels=publishers,colors=colors,\n",
    "       autopct='%1.2f%%')\n",
    "\n",
    "# plt.figure(figsize=(20,18), dpi=100)\n",
    "\n",
    "fig = plt.gcf()\n",
    "fig.set_size_inches(10,8)\n",
    "\n",
    "plt.show()\n",
    "\n",
    "\n",
    "import plotly.offline as py\n",
    "import plotly.graph_objs as go\n",
    "from plotly import tools\n",
    "\n",
    "py.init_notebook_mode(connected=True)\n",
    "\n",
    "\n",
    "###\n",
    "\n"
   ]
  },
  {
   "cell_type": "code",
   "execution_count": 4,
   "metadata": {},
   "outputs": [
    {
     "ename": "NameError",
     "evalue": "name 'alkd' is not defined",
     "output_type": "error",
     "traceback": [
      "\u001b[0;31m---------------------------------------------------------------------------\u001b[0m",
      "\u001b[0;31mNameError\u001b[0m                                 Traceback (most recent call last)",
      "\u001b[0;32m<ipython-input-4-b83670409f81>\u001b[0m in \u001b[0;36m<module>\u001b[0;34m\u001b[0m\n\u001b[1;32m      1\u001b[0m \u001b[0;31m### hi\u001b[0m\u001b[0;34m\u001b[0m\u001b[0;34m\u001b[0m\u001b[0;34m\u001b[0m\u001b[0m\n\u001b[1;32m      2\u001b[0m \u001b[0;34m\u001b[0m\u001b[0m\n\u001b[0;32m----> 3\u001b[0;31m \u001b[0malkd\u001b[0m\u001b[0;34m\u001b[0m\u001b[0;34m\u001b[0m\u001b[0m\n\u001b[0m\u001b[1;32m      4\u001b[0m \u001b[0;31m###\u001b[0m\u001b[0;34m\u001b[0m\u001b[0;34m\u001b[0m\u001b[0;34m\u001b[0m\u001b[0m\n",
      "\u001b[0;31mNameError\u001b[0m: name 'alkd' is not defined"
     ]
    }
   ],
   "source": [
    "### hi\n",
    "\n",
    "alkd\n",
    "###"
   ]
  },
  {
   "cell_type": "code",
   "execution_count": null,
   "metadata": {},
   "outputs": [],
   "source": []
  }
 ],
 "metadata": {
  "kernelspec": {
   "display_name": "Python 3",
   "language": "python",
   "name": "python3"
  },
  "language_info": {
   "codemirror_mode": {
    "name": "ipython",
    "version": 3
   },
   "file_extension": ".py",
   "mimetype": "text/x-python",
   "name": "python",
   "nbconvert_exporter": "python",
   "pygments_lexer": "ipython3",
   "version": "3.7.4"
  }
 },
 "nbformat": 4,
 "nbformat_minor": 2
}
